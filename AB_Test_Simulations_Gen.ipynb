{
 "cells": [
  {
   "cell_type": "code",
   "execution_count": 7,
   "id": "c4c53b54-2905-4431-9319-5b826eb5723a",
   "metadata": {},
   "outputs": [
    {
     "data": {
      "application/vnd.jupyter.widget-view+json": {
       "model_id": "0f9c4be78265400dbce654d482c6d57b",
       "version_major": 2,
       "version_minor": 0
      },
      "text/plain": [
       "FloatSlider(value=50.0, description='Base Conv (%)', min=1.0, step=1.0)"
      ]
     },
     "metadata": {},
     "output_type": "display_data"
    },
    {
     "data": {
      "application/vnd.jupyter.widget-view+json": {
       "model_id": "42e849e1c16546ef9a006316996e3df5",
       "version_major": 2,
       "version_minor": 0
      },
      "text/plain": [
       "FloatSlider(value=1.0, description='Improvement (%)', max=20.0, min=-20.0)"
      ]
     },
     "metadata": {},
     "output_type": "display_data"
    },
    {
     "data": {
      "application/vnd.jupyter.widget-view+json": {
       "model_id": "367ca04e5fcc40d28c5e33b3ad3dc034",
       "version_major": 2,
       "version_minor": 0
      },
      "text/plain": [
       "Checkbox(value=False, description='AA Test')"
      ]
     },
     "metadata": {},
     "output_type": "display_data"
    },
    {
     "data": {
      "application/vnd.jupyter.widget-view+json": {
       "model_id": "acdc3bdc8926478b925356fe0feb00fe",
       "version_major": 2,
       "version_minor": 0
      },
      "text/plain": [
       "IntSlider(value=1000, description='New Visitors/Iter', max=10000, min=100, step=100)"
      ]
     },
     "metadata": {},
     "output_type": "display_data"
    },
    {
     "data": {
      "application/vnd.jupyter.widget-view+json": {
       "model_id": "44774b8cab1d473698763094240b6ae0",
       "version_major": 2,
       "version_minor": 0
      },
      "text/plain": [
       "IntSlider(value=100, description='Set Iterations', max=1000, min=10, step=10)"
      ]
     },
     "metadata": {},
     "output_type": "display_data"
    },
    {
     "data": {
      "application/vnd.jupyter.widget-view+json": {
       "model_id": "983913c56bcf4f25b7026902bc0b4ac9",
       "version_major": 2,
       "version_minor": 0
      },
      "text/plain": [
       "IntSlider(value=50, description='Num Simulations', max=1000, min=10, step=10)"
      ]
     },
     "metadata": {},
     "output_type": "display_data"
    },
    {
     "data": {
      "application/vnd.jupyter.widget-view+json": {
       "model_id": "04f8a43a2d144a249b8f0f7f7e22c543",
       "version_major": 2,
       "version_minor": 0
      },
      "text/plain": [
       "IntText(value=0, description='Random Seed')"
      ]
     },
     "metadata": {},
     "output_type": "display_data"
    },
    {
     "data": {
      "application/vnd.jupyter.widget-view+json": {
       "model_id": "2584296e59204a0586ff6dad8e22ce7d",
       "version_major": 2,
       "version_minor": 0
      },
      "text/plain": [
       "Button(description='Run Simulations', style=ButtonStyle())"
      ]
     },
     "metadata": {},
     "output_type": "display_data"
    },
    {
     "data": {
      "application/vnd.jupyter.widget-view+json": {
       "model_id": "e2dc1eac155840898eb42b10439a809d",
       "version_major": 2,
       "version_minor": 0
      },
      "text/plain": [
       "IntSlider(value=0, description='Show Simulation:', max=49)"
      ]
     },
     "metadata": {},
     "output_type": "display_data"
    },
    {
     "data": {
      "application/vnd.jupyter.widget-view+json": {
       "model_id": "41fb77d1d90d4f47b94122b4017c6f95",
       "version_major": 2,
       "version_minor": 0
      },
      "text/plain": [
       "Output()"
      ]
     },
     "metadata": {},
     "output_type": "display_data"
    }
   ],
   "source": [
    "import numpy as np\n",
    "import matplotlib.pyplot as plt\n",
    "import ipywidgets as widgets\n",
    "from IPython.display import display, clear_output\n",
    "\n",
    "# Default Parameters\n",
    "versions = 2  # Number of versions including control\n",
    "\n",
    "# Global variables to store the results\n",
    "obs_conv_imprvs = None\n",
    "true_conv_imprvs = None\n",
    "std_obs_conv_imprvs = None\n",
    "x_axis_visitors = None\n",
    "\n",
    "# Function to Run Simulation\n",
    "\n",
    "def run_simulation(button=None):\n",
    "    global obs_conv_imprvs, true_conv_imprvs, std_obs_conv_imprvs, x_axis_visitors\n",
    "    \n",
    "    with output:\n",
    "        # Clearing previous output\n",
    "        clear_output(wait=True)\n",
    "        \n",
    "        # Getting values from widgets\n",
    "        base_conv = base_conv_widget.value / 100  # converting to proportion\n",
    "        improvement = improvement_widget.value / 100  # converting to proportion\n",
    "        aa_test = aa_test_widget.value\n",
    "        new_vis_per_iter = new_vis_per_iter_widget.value\n",
    "        set_iter = set_iter_widget.value\n",
    "        num_sims = num_sims_widget.value\n",
    "        random_seed = random_seed_widget.value if random_seed_widget.value != 0 else None\n",
    "\n",
    "        # Setting the maximum value for simulation slider\n",
    "        sim_slider.max = num_sims - 1\n",
    "\n",
    "        # Setting random seed\n",
    "        np.random.seed(random_seed)\n",
    "\n",
    "        # Code for simulation and visualization based on user-set parameters\n",
    "        conv_rates = np.array([base_conv, base_conv * (1 + improvement_widget.value / 100)])  # converting to proportion\n",
    "        if aa_test:\n",
    "            conv_rates[1:] = conv_rates[0]\n",
    "\n",
    "        true_conv_imprvs = ((conv_rates[1:] - conv_rates[0]) / conv_rates[0]) * 100\n",
    "\n",
    "        orders = np.zeros((set_iter+1, versions*num_sims))\n",
    "        visitor_counts = np.zeros((set_iter+1, versions*num_sims))\n",
    "        for iter in range(set_iter):\n",
    "            visitors_control = np.random.rand(new_vis_per_iter, num_sims) < conv_rates[0]\n",
    "            visitors_treatment = np.random.rand(new_vis_per_iter, num_sims) < conv_rates[1]\n",
    "            orders[iter+1, :num_sims] = orders[iter, :num_sims] + np.sum(visitors_control, axis=0)\n",
    "            orders[iter+1, num_sims:] = orders[iter, num_sims:] + np.sum(visitors_treatment, axis=0)\n",
    "            visitor_counts[iter+1, :num_sims] = visitor_counts[iter, :num_sims] + new_vis_per_iter\n",
    "            visitor_counts[iter+1, num_sims:] = visitor_counts[iter, num_sims:] + new_vis_per_iter\n",
    "\n",
    "        visitor_counts = np.maximum(visitor_counts, 1)\n",
    "\n",
    "        obs_conv_rates = orders / visitor_counts\n",
    "        obs_conv_imprvs = np.zeros((set_iter+1, (versions-1)*num_sims))\n",
    "        for v in range(1, versions):\n",
    "            obs_conv_imprvs[:, (v-1)*num_sims:v*num_sims] = (\n",
    "                ((obs_conv_rates[:, v*num_sims:(v+1)*num_sims] - obs_conv_rates[:, :num_sims]) /\n",
    "                np.maximum(obs_conv_rates[:, :num_sims], 1e-8)) * 100\n",
    "            )\n",
    "\n",
    "        avg_obs_conv_imprvs = np.nanmean(obs_conv_imprvs, axis=1)\n",
    "        std_obs_conv_imprvs = np.nanstd(obs_conv_imprvs, axis=1)\n",
    "        x_axis_visitors = np.arange(set_iter+1) * new_vis_per_iter\n",
    "\n",
    "        update_plot()\n",
    "\n",
    "# Function to Update Plot\n",
    "def update_plot(change=None):\n",
    "    with output:\n",
    "        clear_output(wait=True)\n",
    "        sim_num = sim_slider.value\n",
    "        plt.figure(figsize=(10, 6), dpi=150)\n",
    "        plt.plot(x_axis_visitors, obs_conv_imprvs[:, sim_num], label=f\"Simulation {sim_num+1}\")\n",
    "        plt.fill_between(x_axis_visitors, \n",
    "                         -std_obs_conv_imprvs + true_conv_imprvs, \n",
    "                         std_obs_conv_imprvs + true_conv_imprvs, \n",
    "                         color='gray', alpha=0.5, label=\"1x Standard Deviation (~68% of simulations)\")\n",
    "        plt.fill_between(x_axis_visitors, \n",
    "                         -2*std_obs_conv_imprvs + true_conv_imprvs, \n",
    "                         2*std_obs_conv_imprvs + true_conv_imprvs, \n",
    "                         color='gray', alpha=0.2, label=\"2x Standard Deviation (~95% of simulations)\")\n",
    "        plt.axhline(y=true_conv_imprvs, color='r', linestyle='-', label=f\"True Conversion Improvement ({true_conv_imprvs[0]:.2f}%)\")\n",
    "        plt.title(\"Observed Conversion Improvements Over Time\")\n",
    "        plt.xlabel(\"Number of Visitors\")\n",
    "        plt.ylabel(\"Conversion Improvement (%)\")\n",
    "        plt.legend()\n",
    "        plt.show()\n",
    "\n",
    "# Widgets for user input parameters\n",
    "base_conv_widget = widgets.FloatSlider(min=1, max=100, step=1, value=50, description='Base Conv (%)')\n",
    "improvement_widget = widgets.FloatSlider(min=-20, max=20, step=0.1, value=1, description='Improvement (%)')\n",
    "aa_test_widget = widgets.Checkbox(value=False, description='AA Test')\n",
    "new_vis_per_iter_widget = widgets.IntSlider(min=100, max=10000, step=100, value=1000, description='New Visitors/Iter')\n",
    "set_iter_widget = widgets.IntSlider(min=10, max=1000, step=10, value=100, description='Set Iterations')\n",
    "num_sims_widget = widgets.IntSlider(min=10, max=1000, step=10, value=50, description='Num Simulations')\n",
    "random_seed_widget = widgets.IntText(value=None, description='Random Seed', allow_none=True)\n",
    "\n",
    "# Adding a button to run the simulation\n",
    "run_button = widgets.Button(description=\"Run Simulations\")\n",
    "run_button.on_click(run_simulation)\n",
    "\n",
    "# Adding a slider to choose the simulation number\n",
    "sim_slider = widgets.IntSlider(min=0, max=num_sims_widget.value-1, step=1, value=0, description='Show Simulation:')\n",
    "sim_slider.observe(update_plot, names='value')\n",
    "\n",
    "# Displaying the widgets\n",
    "display(base_conv_widget, improvement_widget, aa_test_widget, new_vis_per_iter_widget, \n",
    "        set_iter_widget, num_sims_widget, random_seed_widget, run_button, sim_slider)\n",
    "\n",
    "# Output widget to display the plot and values\n",
    "output = widgets.Output()\n",
    "display(output)\n",
    "\n",
    "# Calling the function once to display the initial plot\n",
    "run_simulation()"
   ]
  },
  {
   "cell_type": "code",
   "execution_count": null,
   "id": "34da5369-710d-4cde-9c57-5e2dc5e90038",
   "metadata": {},
   "outputs": [],
   "source": []
  }
 ],
 "metadata": {
  "kernelspec": {
   "display_name": "Python 3 (ipykernel)",
   "language": "python",
   "name": "python3"
  },
  "language_info": {
   "codemirror_mode": {
    "name": "ipython",
    "version": 3
   },
   "file_extension": ".py",
   "mimetype": "text/x-python",
   "name": "python",
   "nbconvert_exporter": "python",
   "pygments_lexer": "ipython3",
   "version": "3.10.6"
  }
 },
 "nbformat": 4,
 "nbformat_minor": 5
}
